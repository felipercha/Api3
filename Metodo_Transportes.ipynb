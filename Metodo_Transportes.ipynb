{
  "nbformat": 4,
  "nbformat_minor": 0,
  "metadata": {
    "colab": {
      "provenance": [],
      "include_colab_link": true
    },
    "kernelspec": {
      "name": "python3",
      "display_name": "Python 3"
    },
    "language_info": {
      "name": "python"
    }
  },
  "cells": [
    {
      "cell_type": "markdown",
      "metadata": {
        "id": "view-in-github",
        "colab_type": "text"
      },
      "source": [
        "<a href=\"https://colab.research.google.com/github/felipercha/Api3/blob/main/Metodo_Transportes.ipynb\" target=\"_parent\"><img src=\"https://colab.research.google.com/assets/colab-badge.svg\" alt=\"Open In Colab\"/></a>"
      ]
    },
    {
      "cell_type": "code",
      "execution_count": 1,
      "metadata": {
        "id": "M__wtYsZI6h8",
        "colab": {
          "base_uri": "https://localhost:8080/"
        },
        "outputId": "449dd858-8c1a-41d5-848e-86b725751599"
      },
      "outputs": [
        {
          "output_type": "stream",
          "name": "stdout",
          "text": [
            "Collecting pulp\n",
            "  Downloading PuLP-2.9.0-py3-none-any.whl.metadata (5.4 kB)\n",
            "Downloading PuLP-2.9.0-py3-none-any.whl (17.7 MB)\n",
            "\u001b[2K   \u001b[90m━━━━━━━━━━━━━━━━━━━━━━━━━━━━━━━━━━━━━━━━\u001b[0m \u001b[32m17.7/17.7 MB\u001b[0m \u001b[31m77.1 MB/s\u001b[0m eta \u001b[36m0:00:00\u001b[0m\n",
            "\u001b[?25hInstalling collected packages: pulp\n",
            "Successfully installed pulp-2.9.0\n"
          ]
        }
      ],
      "source": [
        "!pip install pulp\n"
      ]
    },
    {
      "cell_type": "code",
      "source": [
        "from pulp import *"
      ],
      "metadata": {
        "id": "LQIw-OOkI_Aq"
      },
      "execution_count": 4,
      "outputs": []
    },
    {
      "cell_type": "code",
      "source": [
        "transp = LpProblem('MinTransporte',LpMinimize)\n"
      ],
      "metadata": {
        "id": "5mnl_Cg3JBze"
      },
      "execution_count": 5,
      "outputs": []
    },
    {
      "cell_type": "code",
      "source": [
        "\n",
        "x11 = LpVariable('x11',lowBound=0 )\n",
        "x12 = LpVariable('x12',lowBound=0)\n",
        "x13 = LpVariable('x13',lowBound=0)\n",
        "x14 = LpVariable('x14',lowBound=0)\n",
        "x15 = LpVariable('x15',lowBound=0)\n",
        "x16 = LpVariable('x16',lowBound=0)\n",
        "x17 = LpVariable('x17',lowBound=0)\n",
        "x18 = LpVariable('x18',lowBound=0)\n",
        "x19 = LpVariable('x19',lowBound=0)\n",
        "x110 = LpVariable('x110',lowBound=0)\n",
        "x111 = LpVariable('x111',lowBound=0)\n",
        "x112 = LpVariable('x112',lowBound=0)\n",
        "x113 = LpVariable('x113',lowBound=0)\n",
        "x114 = LpVariable('x114',lowBound=0)\n",
        "x115 = LpVariable('x115',lowBound=0)\n",
        "x116 = LpVariable('x116',lowBound=0)\n",
        "x117 = LpVariable('x117',lowBound=0)\n",
        "x118 = LpVariable('x118',lowBound=0)\n",
        "x119 = LpVariable('x119',lowBound=0)\n",
        "x120 = LpVariable('x120',lowBound=0)\n",
        "x121 = LpVariable('x121',lowBound=0)\n",
        "x122 = LpVariable('x122',lowBound=0)\n",
        "x123 = LpVariable('x123',lowBound=0)\n",
        "x124 = LpVariable('x124',lowBound=0)\n",
        "x125 = LpVariable('x125',lowBound=0)\n",
        "x126 = LpVariable('x126',lowBound=0)\n",
        "x127 = LpVariable('x127',lowBound=0)\n",
        "x128 = LpVariable('x128',lowBound=0)\n",
        "x129 = LpVariable('x129',lowBound=0)\n",
        "x130 = LpVariable('x130',lowBound=0)\n",
        "x131 = LpVariable('x131',lowBound=0)\n",
        "x132 = LpVariable('x132',lowBound=0)\n",
        "x133 = LpVariable('x133',lowBound=0)\n",
        "x134 = LpVariable('x134',lowBound=0)\n",
        "x135 = LpVariable('x135',lowBound=0)\n",
        "x139 = LpVariable('x139',lowBound=0)\n",
        "x140 = LpVariable('x140',lowBound=0)\n",
        "x141 = LpVariable('x141',lowBound=0)\n",
        "x142 = LpVariable('x142',lowBound=0)\n",
        "x143 = LpVariable('x143',lowBound=0)\n",
        "x144 = LpVariable('x144',lowBound=0)\n",
        "x145 = LpVariable('x145',lowBound=0)\n",
        "x146 = LpVariable('x146',lowBound=0)\n",
        "x147 = LpVariable('x147',lowBound=0)\n",
        "x148 = LpVariable('x148',lowBound=0)\n",
        "x149 = LpVariable('x149',lowBound=0)\n",
        "x150 = LpVariable('x150',lowBound=0)\n",
        "x151 = LpVariable('x151',lowBound=0)\n",
        "x25 = LpVariable('x25',lowBound=0)\n",
        "x28 = LpVariable('x28',lowBound=0)\n",
        "x29 = LpVariable('x29',lowBound=0)\n",
        "x210 = LpVariable('x210',lowBound=0)\n",
        "x211 = LpVariable('x211)',lowBound=0)\n",
        "x224 = LpVariable('x224',lowBound=0)\n",
        "x226 = LpVariable('x226',lowBound=0)\n",
        "x227 = LpVariable('x227',lowBound=0)\n",
        "x228 = LpVariable('x228',lowBound=0)\n",
        "x229 = LpVariable('x229',lowBound=0)\n",
        "x230 = LpVariable('x230',lowBound=0)\n",
        "x231 = LpVariable('x231',lowBound=0)\n",
        "x232 = LpVariable('x232',lowBound=0)\n",
        "x233 = LpVariable('x233',lowBound=0)\n",
        "x234 = LpVariable('x234',lowBound=0)\n",
        "x235 = LpVariable('x235',lowBound=0)\n",
        "x236 = LpVariable('x236',lowBound=0)\n",
        "x237 = LpVariable('x237',lowBound=0)\n",
        "x238 = LpVariable('x238',lowBound=0)\n",
        "x239 = LpVariable('x239',lowBound=0)\n",
        "x240 = LpVariable('x240',lowBound=0)\n",
        "x241 = LpVariable('x241',lowBound=0)\n",
        "x242 = LpVariable('x242',lowBound=0)\n",
        "x243 = LpVariable('x243',lowBound=0)\n",
        "x247 = LpVariable('x247',lowBound=0)\n",
        "x248 = LpVariable('x248',lowBound=0)\n",
        "x249 = LpVariable('x249',lowBound=0)\n",
        "x250 = LpVariable('x250',lowBound=0)\n",
        "x251 = LpVariable('x251',lowBound=0)\n",
        "x31 = LpVariable('x31',lowBound=0)\n",
        "x32 = LpVariable('x32',lowBound=0)\n",
        "x33 = LpVariable('x33',lowBound=0)\n",
        "x34 = LpVariable('x34',lowBound=0)\n",
        "x35 = LpVariable('x35',lowBound=0)\n",
        "x36 = LpVariable('x36',lowBound=0)\n",
        "x37 = LpVariable('x37',lowBound=0)\n",
        "x38 = LpVariable('x38',lowBound=0)\n",
        "x39 = LpVariable('x39',lowBound=0)\n",
        "x310 = LpVariable('x310',lowBound=0)\n",
        "x311 = LpVariable('x311',lowBound=0)\n",
        "x319 = LpVariable('x319',lowBound=0)\n",
        "x320 = LpVariable('x320',lowBound=0)\n",
        "x321 = LpVariable('x321',lowBound=0)\n",
        "x322 = LpVariable('x322',lowBound=0)\n",
        "x323 = LpVariable('x323',lowBound=0)\n",
        "x324 = LpVariable('x324',lowBound=0)\n",
        "x325 = LpVariable('x325',lowBound=0)\n",
        "x326 = LpVariable('x326',lowBound=0)\n",
        "x327 = LpVariable('x327',lowBound=0)\n",
        "x328 = LpVariable('x328',lowBound=0)\n",
        "x329 = LpVariable('x329',lowBound=0)\n",
        "x331 = LpVariable('x331',lowBound=0)\n",
        "x332 = LpVariable('x332',lowBound=0)\n",
        "x333 = LpVariable('x333',lowBound=0)\n",
        "x334 = LpVariable('x334',lowBound=0)\n",
        "x335 = LpVariable('x335',lowBound=0)\n",
        "x336 = LpVariable('x336',lowBound=0)\n",
        "x337 = LpVariable('x337',lowBound=0)\n",
        "x338 = LpVariable('x338',lowBound=0)\n",
        "x344 = LpVariable('x344',lowBound=0)\n",
        "x345 = LpVariable('x345',lowBound=0)\n",
        "x346 = LpVariable('x346',lowBound=0)\n",
        "x347 = LpVariable('x347',lowBound=0)\n",
        "x348 = LpVariable('x348',lowBound=0)\n",
        "x349 = LpVariable('x349',lowBound=0)\n",
        "x350 = LpVariable('x350',lowBound=0)\n",
        "x351 = LpVariable('x351',lowBound=0)\n",
        "\n"
      ],
      "metadata": {
        "id": "pvfrpcZIJJko"
      },
      "execution_count": 11,
      "outputs": []
    },
    {
      "cell_type": "code",
      "source": [
        "transp += 0,57*x11+0,56*x12+0,37*x13+0,49*x14+0,54*x15+0,58*x16+0,59*x17+0,58*x18+0,47*x19+0,7*x110+0,4*x111+0,77*x112+0,82*x113+0,85*x114+0,81*x115+0,82*x116+0,9*x117+0,84*x118+0,7*x119+0,75*x120+0,78*x121+0,72*x122+0,74*x123+0,73*x124+0,71*x125+0,71*x126+0,71*x127+0,76*x128+0,81*x129+0,86*x130+0,73*x131+0,81*x132+0,76*x133+0,7*x134+0,73*x135+0,82*x139+0,88*x140+0,88*x141+0,9*x142+0,91*x143+0,61*x144+0,61*x145+0,65*x146+0,29*x147+0,29*x148+0,34*x149+0,36*x150+0,37*x151+0,27*x25+0,27*x28+0,27*x29+0,32*x210+0,26*x211+0,4*x224+0,33*x226+0,29*x227+0,32*x228+0,35*x229+0,49*x230+0,31*x231+0,41*x232+0,66*x233+0,27*x234+0,28*x235+0,5*x236+0,49*x237+0,48*x238+0,58*x239+0,57*x240+0,59*x241+0,6*x242+0,57*x243+0,72*x247+0,73*x248+0,73*x249+0,71*x250+0,73*x251+0,45*x31+0,44*x32+0,39*x33+0,46*x34+0,46*x35+0,40*x36+0,48*x37+0,40*x38+0,5*x39+0,29*x310+0,58*x311+0,29*x319+0,31*x320+0,33*x321+0,29*x322+0,20*x323+0,35*x324+0,19*x325+0,31*x326+0,27*x327+0,35*x328+0,21*x329+0,29*x331+0,30*x332+0,34*x333+0,30*x334+0,32*x335+0,71*x336+0,73*x337+0,70*x338+0,49*x344+0,49*x345+0,55*x346+0,88*x347+0,89*x348+1*x349+0,92*x350+1,24*x351"
      ],
      "metadata": {
        "id": "grP0g18yJiuy"
      },
      "execution_count": 16,
      "outputs": []
    },
    {
      "cell_type": "code",
      "source": [
        "transp += x11 + x12 + x13 + x14 + x15 + x16 + x17 + x18 + x19 + x110 + x111 + x112 + x113 + x114 + x115 + x116 + x117 + x118 + x119 + x120 + x121 + x122 + x123 + x124 + x125 + x126 + x127 + x128 + x129 + x130 + x131 + x132 + x133 + x134 + x135 + x139 + x140 + x141 + x142 + x143 + x144 + x145 + x146 + x147 + x148 + x149 + x150+ x151 <= 16000000\n",
        "transp += x25 + x28 + x29 + x210 + x211 + x224 + x226 + x227 + x228 + x229+ x230 + x231 + x232 + x233 + x234 + x235 + x236 + x237 + x238 + x239 + x240 + x241 + x242 + x243 + x247 + x248 + x249 + x250 + x251 <= 9500000\n",
        "transp += x31 + x32 + x33 + x34 + x35 + x36 + x37 + x38 + x39 + x310 + x311 + x319 + x320 + x321 + x322+ x323 + x324 + x325 + x326 + x327 + x328 + x329 + x331 + x332 + x333 + x334 + x335 + x336 + x337 + x338 + x344 + x345 + x346 + x347 + x348 + x349 + x350 + x351 <= 16500000"
      ],
      "metadata": {
        "id": "9KwQYCffJve9"
      },
      "execution_count": 17,
      "outputs": []
    },
    {
      "cell_type": "code",
      "source": [
        "transp += x11 + x31 ==\n",
        "transp += x12 + x32 ==\n",
        "transp += x13 + x33 ==\n",
        "transp += x14 + x34 ==\n",
        "transp += x15 + x25 + x35 ==\n",
        "transp += x16 + x36 ==\n",
        "transp += x17 + x37 ==\n",
        "transp += x18 + x28 + x38 ==\n",
        "transp += x19 + x29 + x39 ==\n",
        "transp += x110 + x210 + x310 ==\n",
        "transp += x111 + x211 + x311 ==\n",
        "transp += x112 ==\n",
        "transp += x113 ==\n",
        "transp += x114 ==\n",
        "transp += x115 ==\n",
        "transp += x116 ==\n",
        "transp += x117 ==\n",
        "transp += x118 ==\n",
        "transp += x119 + x319 ==\n",
        "transp += x120 + x320 ==\n",
        "transp += x121 + x321 ==\n",
        "transp += x122 + x322 ==\n",
        "transp += x123 + x323 ==\n",
        "transp += x124 + x224 + x324 ==\n",
        "transp += x125 + x325 ==\n",
        "transp += x126 + x226 + x326 ==\n",
        "transp += x127 + x227 + x327 ==\n",
        "transp += x128 + x228 + x328 ==\n",
        "transp += x129 + x229 + x329 ==\n",
        "transp += x130 + x230 ==\n",
        "transp += x131 + x231 + x331 ==\n",
        "transp += x132 + x232 + x332 ==\n",
        "transp += x133 + x233 + x333 ==\n",
        "transp += x134 + x234 + x334 ==\n",
        "transp += x135 + x235 + x335 ==\n",
        "transp += x236 + x336 ==\n",
        "transp += x237 + x337 ==\n",
        "transp += x238 + x338 ==\n",
        "transp += x139 + x239 ==\n",
        "transp += x140 + x240 ==\n",
        "transp += x141 + x241 ==\n",
        "transp += x142 + x242 ==\n",
        "transp += x143 + x243 ==\n",
        "transp += x144 + x344 ==\n",
        "transp += x145 + x345 ==\n",
        "transp += x146 + x346 ==\n",
        "transp += x147 + x247 + x347 ==\n",
        "transp += x148 + x248 + x348 ==\n",
        "transp += x149 + x249 + x349 ==\n",
        "transp += x150 + x250 + x350 ==\n",
        "transp += x151 + x251 + x351 =="
      ],
      "metadata": {
        "id": "TjAC8kBeKBM1"
      },
      "execution_count": null,
      "outputs": []
    },
    {
      "cell_type": "code",
      "source": [
        "transp"
      ],
      "metadata": {
        "id": "Zw4VtqcEKH9l"
      },
      "execution_count": null,
      "outputs": []
    },
    {
      "cell_type": "code",
      "source": [
        "transp.solve()"
      ],
      "metadata": {
        "id": "_ytOGRWMKImZ"
      },
      "execution_count": null,
      "outputs": []
    },
    {
      "cell_type": "code",
      "source": [
        "for v in transp.variables(): print (v.name, '=', v.varValue)"
      ],
      "metadata": {
        "id": "nbbatRagKM3q"
      },
      "execution_count": null,
      "outputs": []
    },
    {
      "cell_type": "code",
      "source": [
        "print('Resultado do custo de transporte =', value(transp.objective))"
      ],
      "metadata": {
        "id": "b0IERr64KVBE"
      },
      "execution_count": null,
      "outputs": []
    },
    {
      "cell_type": "code",
      "source": [
        "print('Resultado do custo de transporte =', value(transp.objective)*10)"
      ],
      "metadata": {
        "id": "5QnXqnv-Klcu"
      },
      "execution_count": null,
      "outputs": []
    },
    {
      "cell_type": "code",
      "source": [],
      "metadata": {
        "id": "zonkSpmsK1Az"
      },
      "execution_count": null,
      "outputs": []
    }
  ]
}